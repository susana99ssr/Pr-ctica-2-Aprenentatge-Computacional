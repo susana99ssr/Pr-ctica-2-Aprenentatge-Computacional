{
 "cells": [
  {
   "cell_type": "code",
   "execution_count": 29,
   "id": "025dc0e7",
   "metadata": {},
   "outputs": [],
   "source": [
    "import pandas as pd\n",
    "import numpy as np\n",
    "import matplotlib.pyplot as plt\n",
    "from sklearn import svm\n",
    "from sklearn.neural_network import MLPClassifier\n",
    "from sklearn.ensemble import RandomForestClassifier\n",
    "from sklearn.ensemble import GradientBoostingClassifier\n",
    "from sklearn.tree import DecisionTreeClassifier\n",
    "from sklearn.linear_model import SGDClassifier\n",
    "from sklearn.naive_bayes import GaussianNB\n",
    "from sklearn.model_selection import RepeatedStratifiedKFold\n",
    "from sklearn.model_selection import KFold\n",
    "from sklearn.model_selection import train_test_split\n",
    "from sklearn.metrics import f1_score, precision_recall_curve, average_precision_score, roc_curve, auc\n",
    "from sklearn.experimental import enable_halving_search_cv\n",
    "from sklearn.model_selection import HalvingRandomSearchCV\n",
    "# from skopt import BayesSearchCV #Eliminado, porque requiere otra versión de scikit-learn\n",
    "# from skopt import gp_minimize"
   ]
  },
  {
   "cell_type": "code",
   "execution_count": 9,
   "id": "ba0fcb1b",
   "metadata": {},
   "outputs": [
    {
     "name": "stdout",
     "output_type": "stream",
     "text": [
      "<class 'pandas.core.frame.DataFrame'>\n",
      "RangeIndex: 123710 entries, 0 to 123709\n",
      "Data columns (total 24 columns):\n",
      " #   Column         Non-Null Count   Dtype  \n",
      "---  ------         --------------   -----  \n",
      " 0   Location       123710 non-null  int64  \n",
      " 1   MinTemp        123710 non-null  float64\n",
      " 2   MaxTemp        123710 non-null  float64\n",
      " 3   Rainfall       123710 non-null  float64\n",
      " 4   Evaporation    123710 non-null  float64\n",
      " 5   Sunshine       123710 non-null  float64\n",
      " 6   WindGustDir    123710 non-null  int64  \n",
      " 7   WindGustSpeed  123710 non-null  float64\n",
      " 8   WindDir9am     123710 non-null  int64  \n",
      " 9   WindDir3pm     123710 non-null  int64  \n",
      " 10  WindSpeed9am   123710 non-null  float64\n",
      " 11  WindSpeed3pm   123710 non-null  float64\n",
      " 12  Humidity9am    123710 non-null  float64\n",
      " 13  Humidity3pm    123710 non-null  float64\n",
      " 14  Pressure9am    123710 non-null  float64\n",
      " 15  Pressure3pm    123710 non-null  float64\n",
      " 16  Cloud9am       123710 non-null  float64\n",
      " 17  Cloud3pm       123710 non-null  float64\n",
      " 18  Temp9am        123710 non-null  float64\n",
      " 19  Temp3pm        123710 non-null  float64\n",
      " 20  RainTomorrow   123710 non-null  int64  \n",
      " 21  Day            123710 non-null  int64  \n",
      " 22  Month          123710 non-null  int64  \n",
      " 23  Year           123710 non-null  int64  \n",
      "dtypes: float64(16), int64(8)\n",
      "memory usage: 22.7 MB\n"
     ]
    }
   ],
   "source": [
    "data = pd.read_csv(\"prep_data.csv\")\n",
    "data.info()"
   ]
  },
  {
   "cell_type": "markdown",
   "id": "ad969040",
   "metadata": {},
   "source": [
    "## Primero, hay que intentar hacer las predicciones con cada uno de los modelos"
   ]
  },
  {
   "cell_type": "markdown",
   "id": "7115e26b",
   "metadata": {},
   "source": [
    "Lo haremos para descartar los modelos con peores métricas finales y con mayor tiempo de ejecución (en cualquier caso guardamos SVC, porque lo necesitaremos al final)."
   ]
  },
  {
   "cell_type": "code",
   "execution_count": 43,
   "id": "38eca7fb",
   "metadata": {},
   "outputs": [],
   "source": [
    "X = data.drop(\"RainTomorrow\", axis = 1)\n",
    "y = data[\"RainTomorrow\"]\n",
    "\n",
    "x_t, x_v, y_t, y_v = train_test_split(X, y, test_size = 0.1, random_state = 23)"
   ]
  },
  {
   "cell_type": "code",
   "execution_count": 46,
   "id": "1152a651",
   "metadata": {},
   "outputs": [
    {
     "name": "stdout",
     "output_type": "stream",
     "text": [
      "Iteration 1, loss = 0.99509380\n",
      "Iteration 2, loss = 0.57666942\n",
      "Iteration 3, loss = 0.52728710\n",
      "Iteration 4, loss = 0.51400390\n",
      "Iteration 5, loss = 0.53184826\n",
      "Iteration 6, loss = 0.53798511\n",
      "Iteration 7, loss = 0.51230199\n",
      "Iteration 8, loss = 0.51037137\n",
      "Iteration 9, loss = 0.52581438\n",
      "Iteration 10, loss = 0.47150676\n",
      "Iteration 11, loss = 0.50595250\n",
      "Iteration 12, loss = 0.49161146\n",
      "Iteration 13, loss = 0.47031590\n",
      "Iteration 14, loss = 0.48775167\n",
      "Iteration 15, loss = 0.49113199\n",
      "Iteration 16, loss = 0.47844526\n",
      "Iteration 17, loss = 0.47942802\n",
      "Iteration 18, loss = 0.48497791\n",
      "Iteration 19, loss = 0.51003486\n",
      "Iteration 20, loss = 0.42652424\n",
      "Iteration 21, loss = 0.47203398\n",
      "Iteration 22, loss = 0.44859977\n",
      "Iteration 23, loss = 0.46972943\n",
      "Iteration 24, loss = 0.44800146\n",
      "Iteration 25, loss = 0.44416706\n",
      "Iteration 26, loss = 0.49687299\n",
      "Iteration 27, loss = 0.43904109\n",
      "Iteration 28, loss = 0.46223421\n",
      "Iteration 29, loss = 0.46167647\n",
      "Iteration 30, loss = 0.44998785\n",
      "Iteration 31, loss = 0.44856486\n",
      "Training loss did not improve more than tol=0.000100 for 10 consecutive epochs. Stopping.\n"
     ]
    }
   ],
   "source": [
    "mlpc = MLPClassifier(random_state = 23, verbose = True)\n",
    "mlpc.fit(x_t, y_t)\n",
    "predictions = mlpc.predict(x_v)"
   ]
  },
  {
   "cell_type": "code",
   "execution_count": 48,
   "id": "c2ac6148",
   "metadata": {},
   "outputs": [
    {
     "data": {
      "text/plain": [
       "array([0, 0, 0, ..., 1, 0, 0], dtype=int64)"
      ]
     },
     "execution_count": 48,
     "metadata": {},
     "output_type": "execute_result"
    }
   ],
   "source": []
  },
  {
   "cell_type": "code",
   "execution_count": null,
   "id": "e914d47a",
   "metadata": {},
   "outputs": [],
   "source": []
  }
 ],
 "metadata": {
  "kernelspec": {
   "display_name": "Python 3",
   "language": "python",
   "name": "python3"
  },
  "language_info": {
   "codemirror_mode": {
    "name": "ipython",
    "version": 3
   },
   "file_extension": ".py",
   "mimetype": "text/x-python",
   "name": "python",
   "nbconvert_exporter": "python",
   "pygments_lexer": "ipython3",
   "version": "3.8.10"
  }
 },
 "nbformat": 4,
 "nbformat_minor": 5
}
