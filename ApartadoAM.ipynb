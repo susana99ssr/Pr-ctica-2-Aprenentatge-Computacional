{
 "cells": [
  {
   "cell_type": "code",
   "execution_count": 29,
   "id": "2d966886",
   "metadata": {},
   "outputs": [],
   "source": [
    "import pandas as pd\n",
    "import numpy as np\n",
    "import matplotlib.pyplot as plt\n",
    "from sklearn import svm\n",
    "from sklearn.neural_network import MLPClassifier\n",
    "from sklearn.ensemble import RandomForestClassifier\n",
    "from sklearn.ensemble import GradientBoostingClassifier\n",
    "from sklearn.tree import DecisionTreeClassifier\n",
    "from sklearn.linear_model import SGDClassifier\n",
    "from sklearn.naive_bayes import GaussianNB\n",
    "from sklearn.model_selection import RepeatedStratifiedKFold\n",
    "from sklearn.model_selection import KFold\n",
    "from sklearn.model_selection import train_test_split\n",
    "from sklearn.metrics import f1_score, precision_recall_curve, average_precision_score, roc_curve, auc\n",
    "from sklearn.experimental import enable_halving_search_cv\n",
    "from sklearn.model_selection import HalvingRandomSearchCV\n",
    "# from skopt import BayesSearchCV #Eliminado, porque requiere otra versión de scikit-learn\n",
    "# from skopt import gp_minimize"
   ]
  },
  {
   "cell_type": "code",
   "execution_count": 9,
   "id": "e76bee80",
   "metadata": {},
   "outputs": [
    {
     "name": "stdout",
     "output_type": "stream",
     "text": [
      "<class 'pandas.core.frame.DataFrame'>\n",
      "RangeIndex: 123710 entries, 0 to 123709\n",
      "Data columns (total 24 columns):\n",
      " #   Column         Non-Null Count   Dtype  \n",
      "---  ------         --------------   -----  \n",
      " 0   Location       123710 non-null  int64  \n",
      " 1   MinTemp        123710 non-null  float64\n",
      " 2   MaxTemp        123710 non-null  float64\n",
      " 3   Rainfall       123710 non-null  float64\n",
      " 4   Evaporation    123710 non-null  float64\n",
      " 5   Sunshine       123710 non-null  float64\n",
      " 6   WindGustDir    123710 non-null  int64  \n",
      " 7   WindGustSpeed  123710 non-null  float64\n",
      " 8   WindDir9am     123710 non-null  int64  \n",
      " 9   WindDir3pm     123710 non-null  int64  \n",
      " 10  WindSpeed9am   123710 non-null  float64\n",
      " 11  WindSpeed3pm   123710 non-null  float64\n",
      " 12  Humidity9am    123710 non-null  float64\n",
      " 13  Humidity3pm    123710 non-null  float64\n",
      " 14  Pressure9am    123710 non-null  float64\n",
      " 15  Pressure3pm    123710 non-null  float64\n",
      " 16  Cloud9am       123710 non-null  float64\n",
      " 17  Cloud3pm       123710 non-null  float64\n",
      " 18  Temp9am        123710 non-null  float64\n",
      " 19  Temp3pm        123710 non-null  float64\n",
      " 20  RainTomorrow   123710 non-null  int64  \n",
      " 21  Day            123710 non-null  int64  \n",
      " 22  Month          123710 non-null  int64  \n",
      " 23  Year           123710 non-null  int64  \n",
      "dtypes: float64(16), int64(8)\n",
      "memory usage: 22.7 MB\n"
     ]
    }
   ],
   "source": [
    "data = pd.read_csv(\"prep_data.csv\")\n",
    "data.info()"
   ]
  },
  {
   "cell_type": "markdown",
   "id": "97a0e54a",
   "metadata": {},
   "source": [
    "## Primero, hay que intentar hacer las predicciones con cada uno de los modelos"
   ]
  },
  {
   "cell_type": "markdown",
   "id": "167b5b58",
   "metadata": {},
   "source": [
    "Lo haremos para descartar los modelos con peores métricas finales y con mayor tiempo de ejecución (en cualquier caso guardamos SVC, porque lo necesitaremos al final)."
   ]
  },
  {
   "cell_type": "code",
   "execution_count": 43,
   "id": "61cc2f94",
   "metadata": {},
   "outputs": [],
   "source": [
    "X = data.drop(\"RainTomorrow\", axis = 1)\n",
    "y = data[\"RainTomorrow\"]\n",
    "\n",
    "x_t, x_v, y_t, y_v = train_test_split(X, y, test_size = 0.1, random_state = 23)"
   ]
  },
  {
   "cell_type": "code",
   "execution_count": 50,
   "id": "70f75ad5",
   "metadata": {},
   "outputs": [],
   "source": [
    "mlpc = MLPClassifier(random_state = 23)\n",
    "mlpc.fit(x_t, y_t)\n",
    "predictions = mlpc.predict(x_v)"
   ]
  },
  {
   "cell_type": "code",
   "execution_count": 51,
   "id": "5e59af66",
   "metadata": {},
   "outputs": [
    {
     "data": {
      "text/plain": [
       "0.6337296935186737"
      ]
     },
     "execution_count": 51,
     "metadata": {},
     "output_type": "execute_result"
    }
   ],
   "source": [
    "f1_score(y_v, predictions)"
   ]
  },
  {
   "cell_type": "code",
   "execution_count": null,
   "id": "f326bc41",
   "metadata": {},
   "outputs": [],
   "source": []
  }
 ],
 "metadata": {
  "kernelspec": {
   "display_name": "Python 3",
   "language": "python",
   "name": "python3"
  },
  "language_info": {
   "codemirror_mode": {
    "name": "ipython",
    "version": 3
   },
   "file_extension": ".py",
   "mimetype": "text/x-python",
   "name": "python",
   "nbconvert_exporter": "python",
   "pygments_lexer": "ipython3",
   "version": "3.8.10"
  }
 },
 "nbformat": 4,
 "nbformat_minor": 5
}
