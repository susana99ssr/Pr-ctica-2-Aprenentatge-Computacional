{
 "cells": [
  {
   "cell_type": "code",
   "execution_count": 1,
   "id": "2d966886",
   "metadata": {},
   "outputs": [],
   "source": [
    "import pandas as pd\n",
    "import numpy as np\n",
    "import matplotlib.pyplot as plt\n",
    "from sklearn import svm\n",
    "from sklearn.neural_network import MLPClassifier\n",
    "from sklearn.ensemble import RandomForestClassifier\n",
    "from sklearn.ensemble import GradientBoostingClassifier\n",
    "from sklearn.tree import DecisionTreeClassifier\n",
    "from sklearn.linear_model import SGDClassifier\n",
    "from sklearn.naive_bayes import GaussianNB\n",
    "from sklearn.model_selection import RepeatedStratifiedKFold\n",
    "from sklearn.model_selection import KFold\n",
    "from sklearn.model_selection import train_test_split\n",
    "from sklearn.metrics import f1_score, precision_recall_curve, average_precision_score, roc_curve, auc\n",
    "#from sklearn.experimental import enable_halving_search_cv\n",
    "from sklearn.model_selection import HalvingRandomSearchCV\n",
    "# from skopt import BayesSearchCV #Eliminado, porque requiere otra versión de scikit-learn\n",
    "# from skopt import gp_minimize"
   ]
  },
  {
   "cell_type": "code",
   "execution_count": 2,
   "id": "e76bee80",
   "metadata": {},
   "outputs": [
    {
     "name": "stdout",
     "output_type": "stream",
     "text": [
      "<class 'pandas.core.frame.DataFrame'>\n",
      "RangeIndex: 123710 entries, 0 to 123709\n",
      "Data columns (total 24 columns):\n",
      " #   Column         Non-Null Count   Dtype  \n",
      "---  ------         --------------   -----  \n",
      " 0   Location       123710 non-null  int64  \n",
      " 1   MinTemp        123710 non-null  float64\n",
      " 2   MaxTemp        123710 non-null  float64\n",
      " 3   Rainfall       123710 non-null  float64\n",
      " 4   Evaporation    123710 non-null  float64\n",
      " 5   Sunshine       123710 non-null  float64\n",
      " 6   WindGustDir    123710 non-null  int64  \n",
      " 7   WindGustSpeed  123710 non-null  float64\n",
      " 8   WindDir9am     123710 non-null  int64  \n",
      " 9   WindDir3pm     123710 non-null  int64  \n",
      " 10  WindSpeed9am   123710 non-null  float64\n",
      " 11  WindSpeed3pm   123710 non-null  float64\n",
      " 12  Humidity9am    123710 non-null  float64\n",
      " 13  Humidity3pm    123710 non-null  float64\n",
      " 14  Pressure9am    123710 non-null  float64\n",
      " 15  Pressure3pm    123710 non-null  float64\n",
      " 16  Cloud9am       123710 non-null  float64\n",
      " 17  Cloud3pm       123710 non-null  float64\n",
      " 18  Temp9am        123710 non-null  float64\n",
      " 19  Temp3pm        123710 non-null  float64\n",
      " 20  RainTomorrow   123710 non-null  int64  \n",
      " 21  Day            123710 non-null  int64  \n",
      " 22  Month          123710 non-null  int64  \n",
      " 23  Year           123710 non-null  int64  \n",
      "dtypes: float64(16), int64(8)\n",
      "memory usage: 22.7 MB\n"
     ]
    }
   ],
   "source": [
    "data = pd.read_csv(\"prep_data.csv\")\n",
    "data.info()"
   ]
  },
  {
   "cell_type": "markdown",
   "id": "97a0e54a",
   "metadata": {},
   "source": [
    "## Primero, hay que intentar hacer las predicciones con cada uno de los modelos"
   ]
  },
  {
   "cell_type": "markdown",
   "id": "167b5b58",
   "metadata": {},
   "source": [
    "Lo haremos para descartar los modelos con peores métricas finales y con mayor tiempo de ejecución (en cualquier caso guardamos SVC, porque lo necesitaremos al final)."
   ]
  },
  {
   "cell_type": "code",
   "execution_count": 3,
   "id": "61cc2f94",
   "metadata": {},
   "outputs": [],
   "source": [
    "X = data.drop(\"RainTomorrow\", axis = 1)\n",
    "y = data[\"RainTomorrow\"]\n",
    "\n",
    "x_t, x_v, y_t, y_v = train_test_split(X, y, test_size = 0.1, random_state = 23)"
   ]
  },
  {
   "cell_type": "markdown",
   "id": "de81d184",
   "metadata": {},
   "source": [
    "MLPClassifier con valores por defecto:"
   ]
  },
  {
   "cell_type": "code",
   "execution_count": 4,
   "id": "70f75ad5",
   "metadata": {},
   "outputs": [
    {
     "data": {
      "text/plain": [
       "0.6337296935186737"
      ]
     },
     "execution_count": 4,
     "metadata": {},
     "output_type": "execute_result"
    }
   ],
   "source": [
    "mlpc = MLPClassifier(random_state = 23)\n",
    "mlpc.fit(x_t, y_t)\n",
    "predictions = mlpc.predict(x_v)\n",
    "f1_score(y_v, predictions)"
   ]
  },
  {
   "cell_type": "markdown",
   "id": "aa98ce23",
   "metadata": {},
   "source": [
    "Random Forest con valores por defecto:"
   ]
  },
  {
   "cell_type": "code",
   "execution_count": 5,
   "id": "5e59af66",
   "metadata": {},
   "outputs": [
    {
     "data": {
      "text/plain": [
       "0.6226959804574728"
      ]
     },
     "execution_count": 5,
     "metadata": {},
     "output_type": "execute_result"
    }
   ],
   "source": [
    "rfc = RandomForestClassifier(random_state = 23, n_jobs = -1)\n",
    "rfc.fit(x_t, y_t)\n",
    "predictions = rfc.predict(x_v)\n",
    "f1_score(y_v, predictions)"
   ]
  },
  {
   "cell_type": "markdown",
   "id": "a2f3e7fb",
   "metadata": {},
   "source": [
    "GradientBoostingClassifier con valores por defecto:"
   ]
  },
  {
   "cell_type": "code",
   "execution_count": 6,
   "id": "f326bc41",
   "metadata": {},
   "outputs": [
    {
     "data": {
      "text/plain": [
       "0.6139004604253453"
      ]
     },
     "execution_count": 6,
     "metadata": {},
     "output_type": "execute_result"
    }
   ],
   "source": [
    "gbc = GradientBoostingClassifier(random_state = 23)\n",
    "gbc.fit(x_t, y_t)\n",
    "predictions = gbc.predict(x_v)\n",
    "f1_score(y_v, predictions)"
   ]
  },
  {
   "cell_type": "markdown",
   "id": "78a09f21",
   "metadata": {},
   "source": [
    "Decision Tree Classifier con valores por defecto:"
   ]
  },
  {
   "cell_type": "code",
   "execution_count": 7,
   "id": "6ac32183",
   "metadata": {},
   "outputs": [
    {
     "data": {
      "text/plain": [
       "0.5366293756766511"
      ]
     },
     "execution_count": 7,
     "metadata": {},
     "output_type": "execute_result"
    }
   ],
   "source": [
    "dtc = DecisionTreeClassifier(random_state = 23)\n",
    "dtc.fit(x_t, y_t)\n",
    "predictions = dtc.predict(x_v)\n",
    "f1_score(y_v, predictions)"
   ]
  },
  {
   "cell_type": "markdown",
   "id": "4cee32d4",
   "metadata": {},
   "source": [
    "SGD Classifier con valores por defecto:"
   ]
  },
  {
   "cell_type": "code",
   "execution_count": 8,
   "id": "dcd6ed8f",
   "metadata": {},
   "outputs": [
    {
     "data": {
      "text/plain": [
       "0.1916364833717484"
      ]
     },
     "execution_count": 8,
     "metadata": {},
     "output_type": "execute_result"
    }
   ],
   "source": [
    "sgdc = SGDClassifier(random_state = 23)\n",
    "sgdc.fit(x_t, y_t)\n",
    "predictions = sgdc.predict(x_v)\n",
    "f1_score(y_v, predictions)"
   ]
  },
  {
   "cell_type": "markdown",
   "id": "36ce90e5",
   "metadata": {},
   "source": [
    "Gaussian Naïve Bayes con valores por defecto:"
   ]
  },
  {
   "cell_type": "code",
   "execution_count": 9,
   "id": "3f24d03e",
   "metadata": {},
   "outputs": [
    {
     "data": {
      "text/plain": [
       "0.5844670225589806"
      ]
     },
     "execution_count": 9,
     "metadata": {},
     "output_type": "execute_result"
    }
   ],
   "source": [
    "gnb = GaussianNB()\n",
    "gnb.fit(x_t, y_t)\n",
    "predictions = gnb.predict(x_v)\n",
    "f1_score(y_v, predictions)"
   ]
  },
  {
   "cell_type": "markdown",
   "id": "8ae84654",
   "metadata": {},
   "source": [
    "Los resultados obdenidos hacen que descartamos el SGDClassifier. Los demás modelos muestran f1_score mayor que 0.5. Además, el Gaussian NB y Decision Tree"
   ]
  }
 ],
 "metadata": {
  "kernelspec": {
   "display_name": "Python 3",
   "language": "python",
   "name": "python3"
  },
  "language_info": {
   "codemirror_mode": {
    "name": "ipython",
    "version": 3
   },
   "file_extension": ".py",
   "mimetype": "text/x-python",
   "name": "python",
   "nbconvert_exporter": "python",
   "pygments_lexer": "ipython3",
   "version": "3.8.10"
  }
 },
 "nbformat": 4,
 "nbformat_minor": 5
}
